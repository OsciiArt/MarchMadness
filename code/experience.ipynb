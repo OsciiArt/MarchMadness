{
 "cells": [
  {
   "cell_type": "code",
   "execution_count": null,
   "metadata": {
    "collapsed": true
   },
   "outputs": [],
   "source": [
    "import pandas as pd\n",
    "import numpy as np\n",
    "from sklearn import *\n",
    "import os, glob\n",
    "from sklearn.linear_model import LogisticRegression\n",
    "\n",
    "datafiles = sorted(glob.glob('../input/**.csv'))\n",
    "# print(datafiles)\n",
    "# datafiles = {file.split('/')[-1].split('.')[0]: pd.read_csv(file, encoding='latin-1') for file in datafiles}\n",
    "datafiles = {os.path.basename(file)[:-4]: pd.read_csv(file, encoding='latin-1') for file in datafiles}\n",
    "print(datafiles.keys())\n",
    "\n",
    "datafiles['NCAATourneyCompactResults']['SecondaryTourney'] = 'NCAA'\n",
    "datafiles['NCAATourneyDetailedResults']['SecondaryTourney'] = 'NCAA'\n",
    "datafiles['RegularSeasonCompactResults']['SecondaryTourney'] = 'Regular'\n",
    "datafiles['RegularSeasonDetailedResults']['SecondaryTourney'] = 'Regular'\n",
    "\n",
    "# Presets\n",
    "print(\"Presets\")\n",
    "games = datafiles['NCAATourneyCompactResults']"
   ]
  },
  {
   "cell_type": "code",
   "execution_count": null,
   "metadata": {},
   "outputs": [],
   "source": [
    ""
   ]
  }
 ],
 "metadata": {
  "kernelspec": {
   "display_name": "Python 2",
   "language": "python",
   "name": "python2"
  },
  "language_info": {
   "codemirror_mode": {
    "name": "ipython",
    "version": 2.0
   },
   "file_extension": ".py",
   "mimetype": "text/x-python",
   "name": "python",
   "nbconvert_exporter": "python",
   "pygments_lexer": "ipython2",
   "version": "2.7.6"
  }
 },
 "nbformat": 4,
 "nbformat_minor": 0
}