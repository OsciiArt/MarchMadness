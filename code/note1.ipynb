{
 "cells": [
  {
   "cell_type": "markdown",
   "metadata": {
    "_cell_guid": "e0edc27d-0c83-4b19-8614-176f8ed3c6d9",
    "_uuid": "4eae735ed778a55da45c198acfcc515620fa37d3"
   },
   "source": [
    "this is folk of the1owls's \"Ridge & Huber - 3 Pointer (M)\"  with Japanese caption.  \n",
    "https://www.kaggle.com/the1owl/ridge-huber-3-pointer-m  \n",
    "just for my understanding"
   ]
  },
  {
   "cell_type": "code",
   "execution_count": 6,
   "metadata": {
    "_cell_guid": "b1076dfc-b9ad-4769-8c92-a6c4dae69d19",
    "_uuid": "8f2839f25d086af736a60e9eeb907d3b93b6e0e5",
    "collapsed": false
   },
   "outputs": [],
   "source": [
    "# ライブラリを読み込む\n",
    "import pandas as pd\n",
    "import numpy as np\n",
    "from sklearn import *\n",
    "import os, glob"
   ]
  },
  {
   "cell_type": "code",
   "execution_count": 7,
   "metadata": {
    "_cell_guid": "79c7e3d0-c299-4dcb-8224-4455121ee9b0",
    "_uuid": "d629ff2d2480ee46fbb7e2d37f6b5fab8052498a",
    "collapsed": true
   },
   "outputs": [],
   "source": [
    "# データを読み込む\n",
    "datafiles = sorted(glob.glob('../input/**.csv')) # 全データのパスを取得\n",
    "# 全データをpd.Dataframeとして読み込んでdictionaryにまとめる\n",
    "datafiles = {os.path.basename(file)[:-4]: pd.read_csv(file, encoding='latin-1') for file in datafiles}"
   ]
  },
  {
   "cell_type": "code",
   "execution_count": 8,
   "metadata": {
    "_cell_guid": "cc424b1e-3fad-445c-81f1-c4aa8af5a183",
    "_uuid": "24e26266548b3a81d91d4335b51368172fdedf92",
    "collapsed": false
   },
   "outputs": [
    {
     "name": "stdout",
     "output_type": "stream",
     "text": [
      "0 NCAATourneySeedRoundSlots\n",
      "1 MasseyOrdinals\n",
      "2 Seasons\n",
      "3 SecondaryTourneyCompactResults\n",
      "4 SampleSubmissionStage1\n",
      "5 RegularSeasonCompactResults\n",
      "6 TeamConferences\n",
      "7 TeamCoaches\n",
      "8 RegularSeasonDetailedResults\n",
      "9 NCAATourneyDetailedResults\n",
      "10 Conferences\n",
      "11 Cities\n",
      "12 GameCities\n",
      "13 NCAATourneyCompactResults\n",
      "14 Teams\n",
      "15 NCAATourneySlots\n",
      "16 TeamSpellings\n",
      "17 feature1\n",
      "18 ConferenceTourneyGames\n",
      "19 SecondaryTourneyTeams\n",
      "20 NCAATourneySeeds\n"
     ]
    }
   ],
   "source": [
    "# 全データをリストアップ\n",
    "for i, key in enumerate(datafiles):\n",
    "    print(i, key)"
   ]
  },
  {
   "cell_type": "code",
   "execution_count": 9,
   "metadata": {
    "_cell_guid": "eb6dabe7-7482-48de-b377-acdf91d34849",
    "_uuid": "14328dc2d8f31c6319c7a99053e4e5b1b3ee46af",
    "collapsed": false
   },
   "outputs": [],
   "source": [
    "\"\"\"\n",
    "SecondaryTourneyというカラムを追加して 'NCAA\"もしくは'Regular'の値を与える\n",
    "SecondaryTourneyはNCAAトーナメント以外のトーナメントのことでNIT, CBI, CIT, V16の４つがある．\n",
    "ここにNCAA, Regularを追加して試合がどの大会に属するものかを表すカラムとして扱う．\n",
    "\"\"\"\n",
    "datafiles['NCAATourneyCompactResults']['SecondaryTourney'] = 'NCAA'\n",
    "datafiles['NCAATourneyDetailedResults']['SecondaryTourney'] = 'NCAA'\n",
    "datafiles['RegularSeasonCompactResults']['SecondaryTourney'] = 'Regular'\n",
    "datafiles['RegularSeasonDetailedResults']['SecondaryTourney'] = 'Regular'"
   ]
  },
  {
   "cell_type": "code",
   "execution_count": 10,
   "metadata": {
    "_cell_guid": "2fedfa51-47a7-4fb2-9b85-038ef00a249b",
    "_uuid": "0d806ce21b5e5378e2b5a5a3b5944558e575ee15",
    "collapsed": true
   },
   "outputs": [],
   "source": [
    "### Presets\n",
    "# カテゴリ型のカラムを数値に置き換える準備\n",
    "WLoc = {'A': 1, 'H': 2, 'N': 3}\n",
    "SecondaryTourney = {'NIT': 1, 'CBI': 2, 'CIT': 3, 'V16': 4, 'Regular': 5 ,'NCAA': 6}"
   ]
  },
  {
   "cell_type": "code",
   "execution_count": 11,
   "metadata": {
    "_cell_guid": "329bdcef-1568-40ab-a65f-4f7240dd20fc",
    "_uuid": "173ae8c3ce5194ba677b31de4194178cf6981258",
    "collapsed": false,
    "scrolled": true
   },
   "outputs": [
    {
     "name": "stdout",
     "output_type": "stream",
     "text": [
      "games.shape (154285, 9)\n"
     ]
    },
    {
     "data": {
      "text/html": [
       "<div>\n",
       "<table border=\"1\" class=\"dataframe\">\n",
       "  <thead>\n",
       "    <tr style=\"text-align: right;\">\n",
       "      <th></th>\n",
       "      <th>Season</th>\n",
       "      <th>DayNum</th>\n",
       "      <th>WTeamID</th>\n",
       "      <th>WScore</th>\n",
       "      <th>LTeamID</th>\n",
       "      <th>LScore</th>\n",
       "      <th>WLoc</th>\n",
       "      <th>NumOT</th>\n",
       "      <th>SecondaryTourney</th>\n",
       "    </tr>\n",
       "  </thead>\n",
       "  <tbody>\n",
       "    <tr>\n",
       "      <th>0</th>\n",
       "      <td>1985</td>\n",
       "      <td>136</td>\n",
       "      <td>1116</td>\n",
       "      <td>63</td>\n",
       "      <td>1234</td>\n",
       "      <td>54</td>\n",
       "      <td>3</td>\n",
       "      <td>0</td>\n",
       "      <td>6</td>\n",
       "    </tr>\n",
       "    <tr>\n",
       "      <th>1</th>\n",
       "      <td>1985</td>\n",
       "      <td>136</td>\n",
       "      <td>1120</td>\n",
       "      <td>59</td>\n",
       "      <td>1345</td>\n",
       "      <td>58</td>\n",
       "      <td>3</td>\n",
       "      <td>0</td>\n",
       "      <td>6</td>\n",
       "    </tr>\n",
       "    <tr>\n",
       "      <th>2</th>\n",
       "      <td>1985</td>\n",
       "      <td>136</td>\n",
       "      <td>1207</td>\n",
       "      <td>68</td>\n",
       "      <td>1250</td>\n",
       "      <td>43</td>\n",
       "      <td>3</td>\n",
       "      <td>0</td>\n",
       "      <td>6</td>\n",
       "    </tr>\n",
       "    <tr>\n",
       "      <th>3</th>\n",
       "      <td>1985</td>\n",
       "      <td>136</td>\n",
       "      <td>1229</td>\n",
       "      <td>58</td>\n",
       "      <td>1425</td>\n",
       "      <td>55</td>\n",
       "      <td>3</td>\n",
       "      <td>0</td>\n",
       "      <td>6</td>\n",
       "    </tr>\n",
       "    <tr>\n",
       "      <th>4</th>\n",
       "      <td>1985</td>\n",
       "      <td>136</td>\n",
       "      <td>1242</td>\n",
       "      <td>49</td>\n",
       "      <td>1325</td>\n",
       "      <td>38</td>\n",
       "      <td>3</td>\n",
       "      <td>0</td>\n",
       "      <td>6</td>\n",
       "    </tr>\n",
       "  </tbody>\n",
       "</table>\n",
       "</div>"
      ],
      "text/plain": [
       "   Season  DayNum  WTeamID  WScore  LTeamID  LScore  WLoc  NumOT  \\\n",
       "0    1985     136     1116      63     1234      54     3      0   \n",
       "1    1985     136     1120      59     1345      58     3      0   \n",
       "2    1985     136     1207      68     1250      43     3      0   \n",
       "3    1985     136     1229      58     1425      55     3      0   \n",
       "4    1985     136     1242      49     1325      38     3      0   \n",
       "\n",
       "   SecondaryTourney  \n",
       "0                 6  \n",
       "1                 6  \n",
       "2                 6  \n",
       "3                 6  \n",
       "4                 6  "
      ]
     },
     "execution_count": 11,
     "metadata": {},
     "output_type": "execute_result"
    }
   ],
   "source": [
    "# NCAAトーナメントとレギュラーリーグの試合情報を連結\n",
    "\n",
    "# コンパクト版\n",
    "# NCAA, レギュラーシーズンの試合情報を連結\n",
    "games = pd.concat((datafiles['NCAATourneyCompactResults'],datafiles['RegularSeasonCompactResults']), axis=0, ignore_index=True)\n",
    "# さらにSecondaryTourney () の試合情報を連結\n",
    "games = pd.concat((games,datafiles['SecondaryTourneyCompactResults']), axis=0, ignore_index=True)\n",
    "\n",
    "# 詳細版\n",
    "#games = pd.concat((datafiles['NCAATourneyDetailedResults'],datafiles['RegularSeasonDetailedResults']), axis=0, ignore_index=True)\n",
    "\n",
    "games.reset_index(drop=True, inplace=True) # indexをリセット\n",
    "# 試合会場情報をH(ome), A(way), N(eutral)から1, 2, 3 に変換\n",
    "games['WLoc'] = games['WLoc'].map(WLoc)\n",
    "# 大会形式情報をNIT, CBI, CIT, V16, Regular, NCAAから1, 2, 3, 4, 5, 6 に変換\n",
    "games['SecondaryTourney'] = games['SecondaryTourney'].map(SecondaryTourney)\n",
    "print(\"games.shape\", games.shape)\n",
    "games.head()"
   ]
  },
  {
   "cell_type": "code",
   "execution_count": 75,
   "metadata": {
    "_cell_guid": "e05df926-3493-4f14-9c0c-004e883faad4",
    "_uuid": "6505107bc2be612a99d502150a32226d68f2cd73",
    "collapsed": true
   },
   "outputs": [],
   "source": [
    "###Add Ids\n",
    "# カラム ID, IDTeam, Team1, Team2, IDTeam1, IDTeam2 を追加\n",
    "# Team1, Team2は勝利チームと敗北チームをソートしたものなので入れ替わっている場合有り\n",
    "games['ID'] = games.apply(lambda r: '_'.join(map(str, [r['Season']]+sorted([r['WTeamID'],r['LTeamID']]))), axis=1)\n",
    "games['IDTeams'] = games.apply(lambda r: '_'.join(map(str, sorted([r['WTeamID'],r['LTeamID']]))), axis=1)\n",
    "games['Team1'] = games.apply(lambda r: sorted([r['WTeamID'],r['LTeamID']])[0], axis=1)\n",
    "games['Team2'] = games.apply(lambda r: sorted([r['WTeamID'],r['LTeamID']])[1], axis=1)\n",
    "games['IDTeam1'] = games.apply(lambda r: '_'.join(map(str, [r['Season'], r['Team1']])), axis=1)\n",
    "games['IDTeam2'] = games.apply(lambda r: '_'.join(map(str, [r['Season'], r['Team2']])), axis=1)\n",
    "print(\"games.shape\", games.shape)\n",
    "games.head()"
   ]
  },
  {
   "cell_type": "code",
   "execution_count": 76,
   "metadata": {
    "_cell_guid": "61a0d737-6ec5-4f18-9033-00c9a5c808f1",
    "_uuid": "3b58b07e527256781a2ed314c2dd8e655dca1514",
    "collapsed": true
   },
   "outputs": [],
   "source": [
    "###Add Seeds\n",
    "# シード情報を読み込みIDTeamsとひも付けた形に変換\n",
    "seeds = {'_'.join(map(str,[int(k1),k2])):int(v[1:3]) for k1, v, k2 in datafiles['NCAATourneySeeds'].values}\n",
    "for key in sorted(seeds.keys())[:10]:\n",
    "    print(key, seeds[key])"
   ]
  },
  {
   "cell_type": "code",
   "execution_count": 77,
   "metadata": {
    "_cell_guid": "11de6701-f9af-4581-9b8b-e6fd8d74c6c0",
    "_uuid": "381efa01bd7cdc35029bb5151426133ac9c3bfc4",
    "collapsed": true
   },
   "outputs": [],
   "source": [
    "### Add 2018\n",
    "# 2018年のシード順位を追加する．2018年のシード順位は2017年と同じとする．\n",
    "if 2018 not in datafiles['NCAATourneySeeds']['Season'].unique():\n",
    "    seeds = {**seeds, **{k.replace('2017_','2018_'):seeds[k] for k in seeds if '2017_' in k}}\n",
    "print(\"2017年のDuke大学のシード順位:\", seeds['2017_1181'], \"2018年のDuke大学のシード順位:\", seeds['2018_1181'])"
   ]
  },
  {
   "cell_type": "code",
   "execution_count": 78,
   "metadata": {
    "_cell_guid": "ef11245a-6f0e-45d1-824b-a1d2781dd9ac",
    "_uuid": "f54a89591c44479566bec4627b888b0ecfd341bc",
    "collapsed": true
   },
   "outputs": [],
   "source": [
    "# シード順位情報のカラムを追加. 情報がないチームは0を代入\n",
    "games['Team1Seed'] = games['IDTeam1'].map(seeds).fillna(0)\n",
    "games['Team2Seed'] = games['IDTeam2'].map(seeds).fillna(0)\n",
    "games.head()"
   ]
  },
  {
   "cell_type": "code",
   "execution_count": 79,
   "metadata": {
    "_cell_guid": "5904eace-f599-467f-a5db-c4db9baa5417",
    "_uuid": "fc89d809037c833fc8b3ce9b9955a9b35086b4ab",
    "collapsed": true
   },
   "outputs": [],
   "source": [
    "### Additional Features & Clean Up\n",
    "# 特徴量を追加する\n",
    "games['ScoreDiff'] = games['WScore'] - games['LScore'] # 点差\n",
    "# 試合結果 (チーム1 = 勝利チーム なら 1 (勝ち))\n",
    "games['Pred'] = games.apply(lambda r: 1. if sorted([r['WTeamID'],r['LTeamID']])[0]==r['WTeamID'] else 0., axis=1)\n",
    "# 点差の絶対値 (負け試合だと点差がマイナスになっているので)\n",
    "games['ScoreDiffNorm'] = games.apply(lambda r: r['ScoreDiff'] * -1 if r['Pred'] == 0. else r['ScoreDiff'], axis=1)\n",
    "games['SeedDiff'] = games['Team1Seed'] - games['Team2Seed'] # シード順位差\n",
    "games = games.fillna(-1) # NAを-1で埋める\n",
    "games.head()"
   ]
  },
  {
   "cell_type": "code",
   "execution_count": 107,
   "metadata": {
    "_cell_guid": "54a47b97-21d4-420b-a0fa-19a4b6014b15",
    "_uuid": "93b973155e4829029e4652bb38dc6864fa8c50c6",
    "collapsed": true
   },
   "outputs": [],
   "source": [
    "### Test Set\n",
    "#　テストデータ作成\n",
    "sub = datafiles['SampleSubmissionStage1']\n",
    "sub['WLoc'] = 3 #N NCAAの試合会場は必ず中立\n",
    "sub['SecondaryTourney'] = 6 #NCAA\n",
    "sub['Season'] = sub['ID'].map(lambda x: x.split('_')[0])\n",
    "sub['Season'] = sub['ID'].map(lambda x: x.split('_')[0])\n",
    "sub['Season'] = sub['Season'].astype(int)\n",
    "sub['Team1'] = sub['ID'].map(lambda x: x.split('_')[1])\n",
    "sub['Team2'] = sub['ID'].map(lambda x: x.split('_')[2])\n",
    "sub['IDTeams'] = sub.apply(lambda r: '_'.join(map(str, [r['Team1'], r['Team2']])), axis=1)\n",
    "sub['IDTeam1'] = sub.apply(lambda r: '_'.join(map(str, [r['Season'], r['Team1']])), axis=1)\n",
    "sub['IDTeam2'] = sub.apply(lambda r: '_'.join(map(str, [r['Season'], r['Team2']])), axis=1)\n",
    "sub['Team1Seed'] = sub['IDTeam1'].map(seeds).fillna(0)\n",
    "sub['Team2Seed'] = sub['IDTeam2'].map(seeds).fillna(0)\n",
    "sub['SeedDiff'] = sub['Team1Seed'] - sub['Team2Seed'] \n",
    "sub.head()"
   ]
  },
  {
   "cell_type": "code",
   "execution_count": 108,
   "metadata": {
    "_uuid": "4a2bee0ce939a3b7e780b52932471febd2578176",
    "collapsed": true
   },
   "outputs": [],
   "source": [
    "sub.tail()"
   ]
  },
  {
   "cell_type": "code",
   "execution_count": 81,
   "metadata": {
    "_cell_guid": "8d5d13d3-b9bb-417d-977f-2eceaaaa108e",
    "_uuid": "2d9b1667b49b8dc1fcb7fe319b145f252c072631",
    "collapsed": true,
    "scrolled": true
   },
   "outputs": [],
   "source": [
    "### 2017年分を予測\n",
    "season = 2017\n",
    "print(season)\n",
    "# 前年度以前のNCAAのデータを抜き出す\n",
    "x1 = games[((games['Season']<int(season)) & (games['SecondaryTourney']==6))]\n",
    "# 同年度以前のNCAA以外のデータを抜き出し追加\n",
    "x1 = pd.concat((x1,games[((games['Season']<int(int(season)+1)) & (games['SecondaryTourney']!=6))]), axis=0, \n",
    "               ignore_index=True)\n",
    "print(x1.shape)\n",
    "x1.tail()"
   ]
  },
  {
   "cell_type": "code",
   "execution_count": 82,
   "metadata": {
    "_cell_guid": "3b934fb6-9ab1-489c-971a-84392acdcad2",
    "_uuid": "4c4ba42f2a79687537caa244632838130f4cc00d",
    "collapsed": true
   },
   "outputs": [],
   "source": [
    "# 同年度のNCAAのデータを抜き出す\n",
    "x2 = games[((games['Season']==int(season)) & (games['SecondaryTourney']==6))]\n",
    "print(x2.shape)\n",
    "x2.head()"
   ]
  },
  {
   "cell_type": "code",
   "execution_count": 112,
   "metadata": {
    "_cell_guid": "8b7bcfcc-a46e-43e7-bbbe-cd6105c6e0f0",
    "_uuid": "d33e44ef2a2258b464d3e10ad0445878853a1d2e",
    "collapsed": true
   },
   "outputs": [],
   "source": [
    "test = sub[sub['Season']==season]\n",
    "print(test.shape)\n",
    "test.head()"
   ]
  },
  {
   "cell_type": "code",
   "execution_count": 113,
   "metadata": {
    "_cell_guid": "c9c97d91-87d6-442f-8678-92b63c5dba34",
    "_uuid": "ef44f7d0af3454cdfe92d095bc0f65dfce3375f7",
    "collapsed": true
   },
   "outputs": [],
   "source": [
    "sdn = x1.groupby(['IDTeams'], as_index=False)[['ScoreDiffNorm']].mean() # 同じ対戦カードの過去の点差の平均\n",
    "sdn[:10]"
   ]
  },
  {
   "cell_type": "code",
   "execution_count": 114,
   "metadata": {
    "_cell_guid": "23ce3bd1-79c9-477f-b751-77bb68873f23",
    "_uuid": "3c6718ec0e0df0a29bb0b4ddca9b8eaeb527cf91",
    "collapsed": true
   },
   "outputs": [],
   "source": [
    "test = pd.merge(test, sdn, how='left', on=['IDTeams'])\n",
    "test['ScoreDiffNorm'] = test['ScoreDiffNorm'].fillna(0.)\n",
    "test.head()"
   ]
  },
  {
   "cell_type": "code",
   "execution_count": 115,
   "metadata": {
    "_cell_guid": "06a3cefd-4594-4698-8f54-6cdf5769f35b",
    "_uuid": "d9c03d0d0d5c53110dc4ecfa29358140dbe49d91",
    "collapsed": true
   },
   "outputs": [],
   "source": [
    "### Interactions\n",
    "# Interという特徴量を作る．ここの意味がよく分かっていない\n",
    "# 直近2年間の試合でチーム1，2両方が戦ったことのある相手に対してチーム1の勝ち数 - 負け数？\n",
    "\"\"\"\n",
    "チーム1, チーム2, 年度, 結果だけを抜き出す\n",
    "チーム2を先にした版をまず用意\n",
    "チーム2が先に来るので結果を反転\n",
    "\"\"\"\n",
    "inter = games[['IDTeam2','IDTeam1','Season','Pred']].rename(columns={'IDTeam2':'Target','IDTeam1':'Common'})\n",
    "inter['Pred'] = inter['Pred'] * -1\n",
    "print(inter.shape)\n",
    "inter.head()"
   ]
  },
  {
   "cell_type": "code",
   "execution_count": 87,
   "metadata": {
    "_cell_guid": "deeca240-7505-4b27-83b1-3acf7e08578d",
    "_uuid": "419aaf6c4e5c92c83f9111b4658439110923cd59",
    "collapsed": true
   },
   "outputs": [],
   "source": [
    "# チーム1を先にした版を追加\n",
    "inter = pd.concat((inter,games[['IDTeam1','IDTeam2','Season','Pred']].rename(columns={'IDTeam1':'Target','IDTeam2':'Common'})), axis=0, ignore_index=True).reset_index(drop=True)\n",
    "print(inter.shape)\n",
    "inter.head()"
   ]
  },
  {
   "cell_type": "code",
   "execution_count": 88,
   "metadata": {
    "_cell_guid": "87ae0181-21a7-490f-a67d-e2f3dbd6bbe2",
    "_uuid": "9c319b400cd0d4e00a493593294b61637d2dcb57",
    "collapsed": true
   },
   "outputs": [],
   "source": [
    "# 3年以上前のデータは捨てる\n",
    "#Only two years back and current regular season\n",
    "inter = inter[((inter['Season']<=int(season)) & (inter['Season']>int(season)-2))]\n",
    "print(inter.shape)\n",
    "inter.head()"
   ]
  },
  {
   "cell_type": "code",
   "execution_count": 89,
   "metadata": {
    "_cell_guid": "072f1d2a-50a4-4db1-bf68-27918923e3f3",
    "_uuid": "f41b8915878aca6cd0560287a52e346b1722952b",
    "collapsed": true
   },
   "outputs": [],
   "source": [
    "inter = pd.merge(inter, inter, how='inner', on=['Common','Season'])  # ここがわからん\n",
    "print(inter.shape)\n",
    "inter.head()"
   ]
  },
  {
   "cell_type": "code",
   "execution_count": 90,
   "metadata": {
    "_cell_guid": "b2c20e90-e12d-4e18-9b46-7c9aee707df3",
    "_uuid": "a1d58f7d3b8b6206d6d6572268710b543d1ae4ab",
    "collapsed": true
   },
   "outputs": [],
   "source": [
    "inter = inter[inter['Target_x'] != inter['Target_y']]\n",
    "print(inter.shape)\n",
    "inter.head()"
   ]
  },
  {
   "cell_type": "code",
   "execution_count": 91,
   "metadata": {
    "_cell_guid": "27ecd6c1-37f1-4920-8ae3-c536bcf46ba7",
    "_uuid": "63201a9f38dcc00771ec23c3716555634a111abe",
    "collapsed": true
   },
   "outputs": [],
   "source": [
    "# inter['ID'] = inter.apply(lambda r:\n",
    "#                           '_'.join(map(str, [r['Season']+1, \n",
    "#                                              r['Target_x'].split('_')[1],\n",
    "#                                              r['Target_y'].split('_')[1]])), axis=1)\n",
    "inter['IDTeams'] = inter.apply(lambda r: \n",
    "                               '_'.join(map(str, [r['Target_x'].split('_')[1],\n",
    "                                                  r['Target_y'].split('_')[1]])), axis=1)\n",
    "inter = inter[['IDTeams','Pred_x']]\n",
    "print(inter.shape)\n",
    "inter.head()"
   ]
  },
  {
   "cell_type": "code",
   "execution_count": 92,
   "metadata": {
    "_cell_guid": "1db4cf9b-98cd-4fb6-89b5-fd7c2c3d0a94",
    "_uuid": "3172682fcdc11998d5316270b04c2c579cd1a3aa",
    "collapsed": true
   },
   "outputs": [],
   "source": [
    "inter = inter.groupby(['IDTeams'], as_index=False)[['Pred_x']].sum()\n",
    "inter = {k:int(v) for k, v in inter.values}\n",
    "for key in sorted(inter.keys())[:10]:\n",
    "    print(key, inter[key])"
   ]
  },
  {
   "cell_type": "code",
   "execution_count": 93,
   "metadata": {
    "_cell_guid": "52d6e814-58b5-46d8-985e-e2c6e9813c76",
    "_uuid": "d98d9f87477f08b98505c81c93c41186cdfc01ff",
    "collapsed": true
   },
   "outputs": [],
   "source": [
    "# x1 ,x2, test にInterカラムを追加\n",
    "x1['Inter'] = x1['IDTeams'].map(inter).fillna(0)\n",
    "x2['Inter'] = x2['IDTeams'].map(inter).fillna(0)\n",
    "test['Inter'] = test['IDTeams'].map(inter).fillna(0)\n",
    "print(x1.shape)\n",
    "x1.head()"
   ]
  },
  {
   "cell_type": "code",
   "execution_count": 94,
   "metadata": {
    "_cell_guid": "f05f7822-bcdc-43e9-a997-5bc54a9a8802",
    "_uuid": "56dc580b2d857ec1854ef4c8b4a21e8c50ec1507",
    "collapsed": true
   },
   "outputs": [],
   "source": [
    "# 説明変数を選択\n",
    "col = [c for c in x1.columns if c not in [\n",
    "    'ID', \n",
    "    'Team1',\n",
    "    'Team2', \n",
    "    'IDTeams',\n",
    "    'IDTeam1',\n",
    "    'IDTeam2',\n",
    "    'Pred',\n",
    "    'DayNum', \n",
    "    'WTeamID', \n",
    "    'WScore', \n",
    "    'LTeamID', \n",
    "    'LScore', \n",
    "    'NumOT', \n",
    "    'ScoreDiff']]\n",
    "col"
   ]
  },
  {
   "cell_type": "code",
   "execution_count": 95,
   "metadata": {
    "_cell_guid": "493e2900-2f34-4666-b97c-e174dd274ab4",
    "_uuid": "5a3013db449829116169d5219854e4ebfb19a940",
    "collapsed": true
   },
   "outputs": [],
   "source": [
    "sorted(x1['Inter'].unique())"
   ]
  },
  {
   "cell_type": "code",
   "execution_count": 96,
   "metadata": {
    "_cell_guid": "5b4b1be7-1460-4b90-b471-3d32c081d7fe",
    "_uuid": "4b73585803201f71498e79d77e3855b8e22e5e85",
    "collapsed": true
   },
   "outputs": [],
   "source": [
    "\"\"\"\n",
    "HuberRegressorモデルをトレーニング\n",
    "HuberRegressorはoutlierにつよいregressorとのこと\n",
    "\"\"\"\n",
    "\n",
    "reg = linear_model.HuberRegressor()\n",
    "reg.fit(x1[col], x1['Pred'])\n",
    "pred = reg.predict(x2[col]).clip(0.05, 0.95)\n",
    "print('Log Loss:', metrics.log_loss(x2['Pred'], pred))\n",
    "test['Pred'] = reg.predict(test[col])"
   ]
  },
  {
   "cell_type": "code",
   "execution_count": null,
   "metadata": {
    "_cell_guid": "e75fc0c3-3ebd-4153-80fc-e2b0672f6f87",
    "_uuid": "6683bbadef253a2b56657bd8e48a787056593128",
    "collapsed": true
   },
   "outputs": [],
   "source": [
    "### Add Validation\n",
    "results = []\n",
    "for season in sub['Season'].unique(): # 年度ごとに処理\n",
    "    print(season)\n",
    "    # 前年度以前のNCAAのデータを抜き出す\n",
    "    x1 = games[((games['Season']<int(season)) & (games['SecondaryTourney']==6))]\n",
    "    # 同年度以前のNCAA以外のデータを抜き出し追加\n",
    "    x1 = pd.concat((x1,games[((games['Season']<int(int(season)+1)) & (games['SecondaryTourney']!=6))]), axis=0, \n",
    "                   ignore_index=True)\n",
    "    # 同年度のNCAAのデータを抜き出す\n",
    "    x2 = games[((games['Season']==int(season)) & (games['SecondaryTourney']==6))]\n",
    "    test = sub[sub['Season']==season]\n",
    "\n",
    "    sdn = x1.groupby(['IDTeams'], as_index=False)[['ScoreDiffNorm']].mean() # 同じ対戦カードの過去の点差の平均\n",
    "    test = pd.merge(test, sdn, how='left', on=['IDTeams'])\n",
    "    test['ScoreDiffNorm'] = test['ScoreDiffNorm'].fillna(0.)\n",
    "    \n",
    "    #Interactions\n",
    "    inter = games[['IDTeam2','IDTeam1','Season','Pred']].rename(columns={'IDTeam2':'Target','IDTeam1':'Common'})\n",
    "    inter['Pred'] = inter['Pred'] * -1\n",
    "    inter = pd.concat((inter,games[['IDTeam1','IDTeam2','Season','Pred']].rename(columns={'IDTeam1':'Target','IDTeam2':'Common'})), axis=0, ignore_index=True).reset_index(drop=True)\n",
    "    inter = inter[((inter['Season']<=int(season)) & (inter['Season']>int(season)-2))] #Only two years back and current regular season\n",
    "    inter = pd.merge(inter, inter, how='inner', on=['Common','Season'])\n",
    "    inter = inter[inter['Target_x'] != inter['Target_y']]\n",
    "    #inter['ID'] = inter.apply(lambda r: '_'.join(map(str, [r['Season']+1, r['Target_x'].split('_')[1],r['Target_y'].split('_')[1]])), axis=1)\n",
    "    inter['IDTeams'] = inter.apply(lambda r: '_'.join(map(str, [r['Target_x'].split('_')[1],r['Target_y'].split('_')[1]])), axis=1)\n",
    "    inter = inter[['IDTeams','Pred_x']]\n",
    "    inter = inter.groupby(['IDTeams'], as_index=False)[['Pred_x']].sum()\n",
    "    inter = {k:int(v) for k, v in inter.values}\n",
    "    \n",
    "    x1['Inter'] = x1['IDTeams'].map(inter).fillna(0)\n",
    "    x2['Inter'] = x2['IDTeams'].map(inter).fillna(0)\n",
    "    test['Inter'] = test['IDTeams'].map(inter).fillna(0)\n",
    "    col = [c for c in x1.columns if c not in ['ID', 'Team1','Team2', 'IDTeams','IDTeam1','IDTeam2','Pred','DayNum', 'WTeamID', 'WScore', 'LTeamID', 'LScore', 'NumOT', 'ScoreDiff']]\n",
    "    \n",
    "    reg = linear_model.HuberRegressor()\n",
    "    reg.fit(x1[col], x1['Pred'])\n",
    "    pred = reg.predict(x2[col]).clip(0.05, 0.95)\n",
    "    print('Log Loss:', metrics.log_loss(x2['Pred'], pred))\n",
    "    test['Pred'] = reg.predict(test[col])\n",
    "\n",
    "    results.append(test)"
   ]
  },
  {
   "cell_type": "code",
   "execution_count": null,
   "metadata": {
    "_cell_guid": "063d1c3c-13ad-4491-a409-22d7e0853bb9",
    "_uuid": "f6878ed41981711cf0e5f8fe70bb776e6f33809f",
    "collapsed": true
   },
   "outputs": [],
   "source": [
    "results = pd.concat(results, axis=0, ignore_index=True).reset_index(drop=True)\n",
    "#Testing for Sequence of Scoring\n",
    "results = {k:float(v) for k,v in results[['ID','Pred']].values}\n",
    "sub['Pred'] = sub['ID'].map(results).clip(0.05, 0.95).fillna(0.49)\n",
    "sub[['ID','Pred']].to_csv('rh3p_submission.csv', index=False)"
   ]
  }
 ],
 "metadata": {
  "anaconda-cloud": {},
  "kernelspec": {
   "display_name": "Python [conda root]",
   "language": "python",
   "name": "conda-root-py"
  },
  "language_info": {
   "codemirror_mode": {
    "name": "ipython",
    "version": 3
   },
   "file_extension": ".py",
   "mimetype": "text/x-python",
   "name": "python",
   "nbconvert_exporter": "python",
   "pygments_lexer": "ipython3",
   "version": "3.5.2"
  }
 },
 "nbformat": 4,
 "nbformat_minor": 1
}
